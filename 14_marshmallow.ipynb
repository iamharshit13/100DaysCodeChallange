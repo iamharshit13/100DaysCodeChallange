{
  "nbformat": 4,
  "nbformat_minor": 0,
  "metadata": {
    "kernelspec": {
      "display_name": "Python 3",
      "language": "python",
      "name": "python3"
    },
    "language_info": {
      "codemirror_mode": {
        "name": "ipython",
        "version": 3
      },
      "file_extension": ".py",
      "mimetype": "text/x-python",
      "name": "python",
      "nbconvert_exporter": "python",
      "pygments_lexer": "ipython3",
      "version": "3.7.6"
    },
    "colab": {
      "name": "Untitled1 (1).ipynb",
      "provenance": [],
      "collapsed_sections": []
    }
  },
  "cells": [
    {
      "cell_type": "code",
      "metadata": {
        "id": "NzIExOVFdjCb",
        "colab_type": "code",
        "colab": {
          "base_uri": "https://localhost:8080/",
          "height": 122
        },
        "outputId": "2afbcfb4-6131-44fa-ecb4-4cffa574d331"
      },
      "source": [
        "!pip install marshmallow\n",
        "from marshmallow import Schema, fields, post_load, validate , ValidationError, validates\n",
        "from pprint import pprint\n"
      ],
      "execution_count": 1,
      "outputs": [
        {
          "output_type": "stream",
          "text": [
            "Collecting marshmallow\n",
            "\u001b[?25l  Downloading https://files.pythonhosted.org/packages/c9/e3/afff202331777faa5b1c772a0b9f2f8c207fde0bef5733cc7ce9d7dbb71a/marshmallow-3.7.0-py2.py3-none-any.whl (45kB)\n",
            "\r\u001b[K     |███████▏                        | 10kB 18.7MB/s eta 0:00:01\r\u001b[K     |██████████████▎                 | 20kB 1.8MB/s eta 0:00:01\r\u001b[K     |█████████████████████▍          | 30kB 2.3MB/s eta 0:00:01\r\u001b[K     |████████████████████████████▋   | 40kB 2.6MB/s eta 0:00:01\r\u001b[K     |████████████████████████████████| 51kB 1.7MB/s \n",
            "\u001b[?25hInstalling collected packages: marshmallow\n",
            "Successfully installed marshmallow-3.7.0\n"
          ],
          "name": "stdout"
        }
      ]
    },
    {
      "cell_type": "code",
      "metadata": {
        "id": "QAVl9JWgdjCn",
        "colab_type": "code",
        "colab": {}
      },
      "source": [
        "class User(object):\n",
        "    def __init__(self, name, age):\n",
        "        self.name = name\n",
        "        self.age = age\n",
        "\n",
        "    def __repr__(self):\n",
        "        return f'I am {self.name} and my age is {self.age}'\n",
        "\n",
        "class UserSchema(Schema):\n",
        "    name = fields.String()\n",
        "    age = fields.Integer()\n",
        "\n",
        "    @post_load\n",
        "    def make(self, data, **kwargs):\n",
        "        return User(**data)\n",
        "\n"
      ],
      "execution_count": 2,
      "outputs": []
    },
    {
      "cell_type": "code",
      "metadata": {
        "id": "oLrjjUhNdjCr",
        "colab_type": "code",
        "colab": {
          "base_uri": "https://localhost:8080/",
          "height": 34
        },
        "outputId": "0bf846f0-7dcf-45c5-f696-c24c14a1a742"
      },
      "source": [
        "data = {\n",
        "    'name': 'Chris',\n",
        "    'age': 32\n",
        "}\n",
        "\n",
        "schema = UserSchema()\n",
        "user = schema.load(data)\n",
        "print(user)\n"
      ],
      "execution_count": 3,
      "outputs": [
        {
          "output_type": "stream",
          "text": [
            "I am Chris and my age is 32\n"
          ],
          "name": "stdout"
        }
      ]
    },
    {
      "cell_type": "markdown",
      "metadata": {
        "id": "FjKuOY2-djCx",
        "colab_type": "text"
      },
      "source": [
        "# JSON TO MULTIPLE OBJECTS"
      ]
    },
    {
      "cell_type": "code",
      "metadata": {
        "id": "cMLHyq93djCy",
        "colab_type": "code",
        "colab": {
          "base_uri": "https://localhost:8080/",
          "height": 68
        },
        "outputId": "507de4d0-ac7e-4283-ae13-efc72ff6a14d"
      },
      "source": [
        "data = [{\n",
        "    'name':'Alice',\n",
        "    'age': 20\n",
        "\n",
        "},{\n",
        "    'name':'Bob',\n",
        "    'age':25\n",
        "},{\n",
        "    'name':'Harry',\n",
        "    'age':21\n",
        "}]\n",
        "\n",
        "schema =UserSchema()\n",
        "users = schema.load(data,many=True)\n",
        "pprint(users)\n"
      ],
      "execution_count": 4,
      "outputs": [
        {
          "output_type": "stream",
          "text": [
            "[I am Alice and my age is 20,\n",
            " I am Bob and my age is 25,\n",
            " I am Harry and my age is 21]\n"
          ],
          "name": "stdout"
        }
      ]
    },
    {
      "cell_type": "markdown",
      "metadata": {
        "id": "KkfKR2EldjC4",
        "colab_type": "text"
      },
      "source": [
        "# Selialization"
      ]
    },
    {
      "cell_type": "code",
      "metadata": {
        "id": "EsIQwBckdjC5",
        "colab_type": "code",
        "colab": {
          "base_uri": "https://localhost:8080/",
          "height": 68
        },
        "outputId": "3074e90d-88f1-4ade-c841-4119cf5dd5eb"
      },
      "source": [
        "dict = schema.dump(users, many=True)\n",
        "pprint(dict)"
      ],
      "execution_count": 5,
      "outputs": [
        {
          "output_type": "stream",
          "text": [
            "[{'age': 20, 'name': 'Alice'},\n",
            " {'age': 25, 'name': 'Bob'},\n",
            " {'age': 21, 'name': 'Harry'}]\n"
          ],
          "name": "stdout"
        }
      ]
    },
    {
      "cell_type": "markdown",
      "metadata": {
        "id": "hHKdUBhVdjC-",
        "colab_type": "text"
      },
      "source": [
        "# Validation"
      ]
    },
    {
      "cell_type": "code",
      "metadata": {
        "id": "9j9umBiidjC_",
        "colab_type": "code",
        "colab": {
          "base_uri": "https://localhost:8080/",
          "height": 51
        },
        "outputId": "5b989fd7-2034-4404-b9a9-d87c8aabb8be"
      },
      "source": [
        "\n",
        "data = [{\n",
        "    'name':'Ram',\n",
        "    'age': 20\n",
        "\n",
        "},{\n",
        "    'name':'Shyam',\n",
        "    'age':'hundred'\n",
        "},{\n",
        "    'name':'Harry',\n",
        "    'age':21\n",
        "}]\n",
        "\n",
        "try:\n",
        "    schema = UserSchema()\n",
        "    users = schema.load(data, many=True)\n",
        "except ValidationError as e:\n",
        "    print(f'Error Msg:{e.messages}')\n",
        "    print(f'Valid Data:{e.valid_data}')\n",
        "\n",
        "\n"
      ],
      "execution_count": 6,
      "outputs": [
        {
          "output_type": "stream",
          "text": [
            "Error Msg:{1: {'age': ['Not a valid integer.']}}\n",
            "Valid Data:[{'age': 20, 'name': 'Ram'}, {'name': 'Shyam'}, {'age': 21, 'name': 'Harry'}]\n"
          ],
          "name": "stdout"
        }
      ]
    },
    {
      "cell_type": "markdown",
      "metadata": {
        "id": "6kzjvPxkdjDE",
        "colab_type": "text"
      },
      "source": [
        "# Advance Validation"
      ]
    },
    {
      "cell_type": "code",
      "metadata": {
        "id": "McqhyHcpdjDG",
        "colab_type": "code",
        "colab": {}
      },
      "source": [
        "class User(object):\n",
        "    def __init__(self,name, age,gender):\n",
        "        self.name = name\n",
        "        self.age = age\n",
        "        self.gender = gender\n",
        "        \n",
        "    def __repr__(self):\n",
        "        return f'I am {self.name}, my age is {self.age} and my gender is {self.gender}'\n",
        "    \n",
        "class UserSchema(Schema):\n",
        "    name = fields.String(validate =validate.Length(min = 1))\n",
        "    age = fields.Integer(validate= validate.Range(min = 18, max = None))\n",
        "    gender = fields. String(validate = validate.OneOf(['F','M','Other']))"
      ],
      "execution_count": 7,
      "outputs": []
    },
    {
      "cell_type": "code",
      "metadata": {
        "id": "rZPmiBD4djDK",
        "colab_type": "code",
        "colab": {
          "base_uri": "https://localhost:8080/",
          "height": 34
        },
        "outputId": "3f458843-1cbb-481b-9c46-144512471c1f"
      },
      "source": [
        "data = {\n",
        "    'name': 1,\n",
        "    'age': 21,\n",
        "    'gender': 'A'\n",
        "}\n",
        "\n",
        "try:\n",
        "    UserSchema().load(data)\n",
        "except ValidationError as e:\n",
        "    pprint(e.messages)"
      ],
      "execution_count": 8,
      "outputs": [
        {
          "output_type": "stream",
          "text": [
            "{'gender': ['Must be one of: F, M, Other.'], 'name': ['Not a valid string.']}\n"
          ],
          "name": "stdout"
        }
      ]
    },
    {
      "cell_type": "markdown",
      "metadata": {
        "id": "05cbQdqUdjDO",
        "colab_type": "text"
      },
      "source": [
        "# Customised Validate Functions"
      ]
    },
    {
      "cell_type": "code",
      "metadata": {
        "id": "qXLvukz5djDP",
        "colab_type": "code",
        "colab": {
          "base_uri": "https://localhost:8080/",
          "height": 34
        },
        "outputId": "3e31535e-dccc-460a-fd59-98412beab8b5"
      },
      "source": [
        "def validate_age(age):\n",
        "    if age < 18:\n",
        "        raise ValidationError('You mst be above 18 to proceed further')\n",
        "\n",
        "class UserSchema(Schema):\n",
        "    name = fields.String(validate=validate.Length(min=1))\n",
        "    age = fields.Integer(validate=validate_age)\n",
        "    gender = fields.String(validate=validate.OneOf(['F','M','Other']))\n",
        "    \n",
        "\n",
        "data = {\n",
        "    'name': 'Harry',\n",
        "    'age': 3,\n",
        "    'gender': 'M'\n",
        "}\n",
        "\n",
        "try:\n",
        "    user = UserSchema().load(data)\n",
        "except ValidationError as e:\n",
        "    pprint(e.messages)"
      ],
      "execution_count": 9,
      "outputs": [
        {
          "output_type": "stream",
          "text": [
            "{'age': ['You mst be above 18 to proceed further']}\n"
          ],
          "name": "stdout"
        }
      ]
    },
    {
      "cell_type": "markdown",
      "metadata": {
        "id": "GTTiS2sGdjDT",
        "colab_type": "text"
      },
      "source": [
        "# OR"
      ]
    },
    {
      "cell_type": "code",
      "metadata": {
        "id": "q-wgdRQLdjDU",
        "colab_type": "code",
        "colab": {}
      },
      "source": [
        "class UserSchema(Schema):\n",
        "    name = fields.String()\n",
        "    age = fields.Integer()\n",
        "    gender = fields.String()\n",
        "    \n",
        "    @validates('age')\n",
        "    def validate_age(self, age):\n",
        "        if age < 18:\n",
        "            raise ValidationError(' You must be above 18 to procced further')"
      ],
      "execution_count": 10,
      "outputs": []
    },
    {
      "cell_type": "code",
      "metadata": {
        "id": "lHZM6be_djDY",
        "colab_type": "code",
        "colab": {
          "base_uri": "https://localhost:8080/",
          "height": 34
        },
        "outputId": "98cb7272-c783-4c6a-a282-8564bf52fda6"
      },
      "source": [
        "data = {\n",
        "    'name': 'Harry',\n",
        "    'age': 17,\n",
        "    'gender': 'M'\n",
        "}\n",
        "\n",
        "try:\n",
        "    user = UserSchema().load(data)\n",
        "except ValidationError as e:\n",
        "    pprint(e.messages)"
      ],
      "execution_count": 11,
      "outputs": [
        {
          "output_type": "stream",
          "text": [
            "{'age': [' You must be above 18 to procced further']}\n"
          ],
          "name": "stdout"
        }
      ]
    },
    {
      "cell_type": "markdown",
      "metadata": {
        "id": "hrBKTSCkdjDd",
        "colab_type": "text"
      },
      "source": [
        "# Required Fields"
      ]
    },
    {
      "cell_type": "code",
      "metadata": {
        "id": "3FpZi-CbgraT",
        "colab_type": "code",
        "colab": {
          "base_uri": "https://localhost:8080/",
          "height": 34
        },
        "outputId": "40ee0aed-ac3b-48ea-f495-2c9f313d9f6d"
      },
      "source": [
        "class UserSchema(Schema):\n",
        "    name = fields.String(required=True, error_messages={'required':'Please enter your Name.'})\n",
        "    age = fields.Integer(required=True, error_messages={'required':'Please enter your Age'})\n",
        "    email = fields.Email()\n",
        "\n",
        "data_no_email = {\n",
        "    'name': 'Harry',\n",
        "    'age': 21\n",
        "}\n",
        "\n",
        "try:\n",
        "    user = UserSchema().load(data_no_email)\n",
        "except ValidationError as e:\n",
        "    pprint(e.messages)\n",
        "\n",
        "print(user)"
      ],
      "execution_count": 12,
      "outputs": [
        {
          "output_type": "stream",
          "text": [
            "{'age': 21, 'name': 'Harry'}\n"
          ],
          "name": "stdout"
        }
      ]
    },
    {
      "cell_type": "code",
      "metadata": {
        "id": "E0dVxwY9djDd",
        "colab_type": "code",
        "colab": {
          "base_uri": "https://localhost:8080/",
          "height": 51
        },
        "outputId": "fc996edc-ca57-4728-f051-72e1848dc307"
      },
      "source": [
        "data_no_email_age = {\n",
        "    'email' : 'abc@gmail.com'\n",
        "}\n",
        "\n",
        "try:\n",
        "    user = UserSchema().load(data_no_email_age)\n",
        "except ValidationError as e:\n",
        "    print(f'Error message: {e.messages}')\n",
        "    print(f'Valid Data:{e.valid_data}')"
      ],
      "execution_count": 14,
      "outputs": [
        {
          "output_type": "stream",
          "text": [
            "Error message: {'age': ['Please enter your Age'], 'name': ['Please enter your Name.']}\n",
            "Valid Data:{'email': 'abc@gmail.com'}\n"
          ],
          "name": "stdout"
        }
      ]
    }
  ]
}